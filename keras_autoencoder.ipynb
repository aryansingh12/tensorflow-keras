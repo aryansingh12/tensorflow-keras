{
  "nbformat": 4,
  "nbformat_minor": 0,
  "metadata": {
    "colab": {
      "name": "keras_autoencoder.ipynb",
      "provenance": [],
      "collapsed_sections": [],
      "include_colab_link": true
    },
    "kernelspec": {
      "name": "python3",
      "display_name": "Python 3"
    }
  },
  "cells": [
    {
      "cell_type": "markdown",
      "metadata": {
        "id": "view-in-github",
        "colab_type": "text"
      },
      "source": [
        "<a href=\"https://colab.research.google.com/github/aryansingh12/tensorflow-keras/blob/master/keras_autoencoder.ipynb\" target=\"_parent\"><img src=\"https://colab.research.google.com/assets/colab-badge.svg\" alt=\"Open In Colab\"/></a>"
      ]
    },
    {
      "cell_type": "code",
      "metadata": {
        "id": "Q1pVvllhM42K",
        "colab_type": "code",
        "colab": {}
      },
      "source": [
        "from keras.layers import Input, Dense, Conv2D, MaxPooling2D, UpSampling2D\n",
        "from keras.models import Model\n",
        "from keras.datasets import mnist\n",
        "import numpy as np\n",
        "import matplotlib.pyplot as plt\n",
        "from keras import regularizers\n",
        "from keras.layers import LSTM, RepeatVector\n",
        "from keras import backend as K\n",
        "from keras.callbacks import TensorBoard"
      ],
      "execution_count": 0,
      "outputs": []
    },
    {
      "cell_type": "code",
      "metadata": {
        "id": "7uwKXzTqNsjj",
        "colab_type": "code",
        "colab": {
          "base_uri": "https://localhost:8080/",
          "height": 71
        },
        "outputId": "cb6bf82a-b8b0-45ca-b01b-d1c70deb8c2c"
      },
      "source": [
        "encoding_dim = 32\n",
        "\n",
        "input_img = Input(shape=(784,))# change this to the vector size\n",
        "\n",
        "encoded = Dense(encoding_dim, activation='relu')(input_img)\n",
        "\n",
        "decoded = Dense(784, activation='sigmoid')(encoded)\n",
        "\n",
        "autoencoder = Model(input_img, decoded)"
      ],
      "execution_count": 7,
      "outputs": [
        {
          "output_type": "stream",
          "text": [
            "WARNING:tensorflow:From /usr/local/lib/python3.6/dist-packages/keras/backend/tensorflow_backend.py:4432: The name tf.random_uniform is deprecated. Please use tf.random.uniform instead.\n",
            "\n"
          ],
          "name": "stdout"
        }
      ]
    },
    {
      "cell_type": "code",
      "metadata": {
        "id": "eGvIzve_SRAn",
        "colab_type": "code",
        "colab": {}
      },
      "source": [
        "encoder = Model(input_img, encoded)"
      ],
      "execution_count": 0,
      "outputs": []
    },
    {
      "cell_type": "code",
      "metadata": {
        "id": "oVQ90GN5ShMN",
        "colab_type": "code",
        "colab": {}
      },
      "source": [
        "encoded_input = Input(shape=(encoding_dim,))\n",
        "\n",
        "decoder_layer = autoencoder.layers[-1]\n",
        "\n",
        "decoder = Model(encoded_input, decoder_layer(encoded_input))"
      ],
      "execution_count": 0,
      "outputs": []
    },
    {
      "cell_type": "code",
      "metadata": {
        "id": "tZlGsDGMSug3",
        "colab_type": "code",
        "colab": {
          "base_uri": "https://localhost:8080/",
          "height": 156
        },
        "outputId": "b4ea0612-1f13-4b7f-c8fb-68bc6e787bf1"
      },
      "source": [
        "autoencoder.compile(optimizer='adadelta', loss='binary_crossentropy')"
      ],
      "execution_count": 10,
      "outputs": [
        {
          "output_type": "stream",
          "text": [
            "WARNING:tensorflow:From /usr/local/lib/python3.6/dist-packages/keras/optimizers.py:793: The name tf.train.Optimizer is deprecated. Please use tf.compat.v1.train.Optimizer instead.\n",
            "\n",
            "WARNING:tensorflow:From /usr/local/lib/python3.6/dist-packages/keras/backend/tensorflow_backend.py:3657: The name tf.log is deprecated. Please use tf.math.log instead.\n",
            "\n",
            "WARNING:tensorflow:From /usr/local/lib/python3.6/dist-packages/tensorflow_core/python/ops/nn_impl.py:183: where (from tensorflow.python.ops.array_ops) is deprecated and will be removed in a future version.\n",
            "Instructions for updating:\n",
            "Use tf.where in 2.0, which has the same broadcast rule as np.where\n"
          ],
          "name": "stdout"
        }
      ]
    },
    {
      "cell_type": "code",
      "metadata": {
        "id": "g4ILIC-iS2gG",
        "colab_type": "code",
        "colab": {
          "base_uri": "https://localhost:8080/",
          "height": 1000
        },
        "outputId": "88aad4f2-f413-4385-a5f1-ce0d55870516"
      },
      "source": [
        "(x_train, _), (x_test, _) = mnist.load_data()\n",
        "print(x_train, x_test)"
      ],
      "execution_count": 12,
      "outputs": [
        {
          "output_type": "stream",
          "text": [
            "[[[0 0 0 ... 0 0 0]\n",
            "  [0 0 0 ... 0 0 0]\n",
            "  [0 0 0 ... 0 0 0]\n",
            "  ...\n",
            "  [0 0 0 ... 0 0 0]\n",
            "  [0 0 0 ... 0 0 0]\n",
            "  [0 0 0 ... 0 0 0]]\n",
            "\n",
            " [[0 0 0 ... 0 0 0]\n",
            "  [0 0 0 ... 0 0 0]\n",
            "  [0 0 0 ... 0 0 0]\n",
            "  ...\n",
            "  [0 0 0 ... 0 0 0]\n",
            "  [0 0 0 ... 0 0 0]\n",
            "  [0 0 0 ... 0 0 0]]\n",
            "\n",
            " [[0 0 0 ... 0 0 0]\n",
            "  [0 0 0 ... 0 0 0]\n",
            "  [0 0 0 ... 0 0 0]\n",
            "  ...\n",
            "  [0 0 0 ... 0 0 0]\n",
            "  [0 0 0 ... 0 0 0]\n",
            "  [0 0 0 ... 0 0 0]]\n",
            "\n",
            " ...\n",
            "\n",
            " [[0 0 0 ... 0 0 0]\n",
            "  [0 0 0 ... 0 0 0]\n",
            "  [0 0 0 ... 0 0 0]\n",
            "  ...\n",
            "  [0 0 0 ... 0 0 0]\n",
            "  [0 0 0 ... 0 0 0]\n",
            "  [0 0 0 ... 0 0 0]]\n",
            "\n",
            " [[0 0 0 ... 0 0 0]\n",
            "  [0 0 0 ... 0 0 0]\n",
            "  [0 0 0 ... 0 0 0]\n",
            "  ...\n",
            "  [0 0 0 ... 0 0 0]\n",
            "  [0 0 0 ... 0 0 0]\n",
            "  [0 0 0 ... 0 0 0]]\n",
            "\n",
            " [[0 0 0 ... 0 0 0]\n",
            "  [0 0 0 ... 0 0 0]\n",
            "  [0 0 0 ... 0 0 0]\n",
            "  ...\n",
            "  [0 0 0 ... 0 0 0]\n",
            "  [0 0 0 ... 0 0 0]\n",
            "  [0 0 0 ... 0 0 0]]] [[[0 0 0 ... 0 0 0]\n",
            "  [0 0 0 ... 0 0 0]\n",
            "  [0 0 0 ... 0 0 0]\n",
            "  ...\n",
            "  [0 0 0 ... 0 0 0]\n",
            "  [0 0 0 ... 0 0 0]\n",
            "  [0 0 0 ... 0 0 0]]\n",
            "\n",
            " [[0 0 0 ... 0 0 0]\n",
            "  [0 0 0 ... 0 0 0]\n",
            "  [0 0 0 ... 0 0 0]\n",
            "  ...\n",
            "  [0 0 0 ... 0 0 0]\n",
            "  [0 0 0 ... 0 0 0]\n",
            "  [0 0 0 ... 0 0 0]]\n",
            "\n",
            " [[0 0 0 ... 0 0 0]\n",
            "  [0 0 0 ... 0 0 0]\n",
            "  [0 0 0 ... 0 0 0]\n",
            "  ...\n",
            "  [0 0 0 ... 0 0 0]\n",
            "  [0 0 0 ... 0 0 0]\n",
            "  [0 0 0 ... 0 0 0]]\n",
            "\n",
            " ...\n",
            "\n",
            " [[0 0 0 ... 0 0 0]\n",
            "  [0 0 0 ... 0 0 0]\n",
            "  [0 0 0 ... 0 0 0]\n",
            "  ...\n",
            "  [0 0 0 ... 0 0 0]\n",
            "  [0 0 0 ... 0 0 0]\n",
            "  [0 0 0 ... 0 0 0]]\n",
            "\n",
            " [[0 0 0 ... 0 0 0]\n",
            "  [0 0 0 ... 0 0 0]\n",
            "  [0 0 0 ... 0 0 0]\n",
            "  ...\n",
            "  [0 0 0 ... 0 0 0]\n",
            "  [0 0 0 ... 0 0 0]\n",
            "  [0 0 0 ... 0 0 0]]\n",
            "\n",
            " [[0 0 0 ... 0 0 0]\n",
            "  [0 0 0 ... 0 0 0]\n",
            "  [0 0 0 ... 0 0 0]\n",
            "  ...\n",
            "  [0 0 0 ... 0 0 0]\n",
            "  [0 0 0 ... 0 0 0]\n",
            "  [0 0 0 ... 0 0 0]]]\n"
          ],
          "name": "stdout"
        }
      ]
    },
    {
      "cell_type": "code",
      "metadata": {
        "id": "60zT4H5sTD1U",
        "colab_type": "code",
        "colab": {
          "base_uri": "https://localhost:8080/",
          "height": 51
        },
        "outputId": "d84b405e-bcd7-4c2d-8be2-997f7fb79704"
      },
      "source": [
        "x_train = x_train.astype('float32') / 255.\n",
        "x_test = x_test.astype('float32') / 255.\n",
        "x_train = x_train.reshape((len(x_train), np.prod(x_train.shape[1:])))\n",
        "x_test = x_test.reshape((len(x_test), np.prod(x_test.shape[1:])))\n",
        "print(x_train.shape)\n",
        "print(x_test.shape)"
      ],
      "execution_count": 14,
      "outputs": [
        {
          "output_type": "stream",
          "text": [
            "(60000, 784)\n",
            "(10000, 784)\n"
          ],
          "name": "stdout"
        }
      ]
    },
    {
      "cell_type": "code",
      "metadata": {
        "id": "ukPnqsAtTHRf",
        "colab_type": "code",
        "colab": {
          "base_uri": "https://localhost:8080/",
          "height": 1000
        },
        "outputId": "91262e2e-80fc-4479-bc66-cba4b0c3c913"
      },
      "source": [
        "autoencoder.fit(x_train, x_train, \n",
        "               epochs=50,\n",
        "               batch_size=256,\n",
        "               shuffle=True,\n",
        "               validation_data=(x_test, x_test))"
      ],
      "execution_count": 15,
      "outputs": [
        {
          "output_type": "stream",
          "text": [
            "WARNING:tensorflow:From /usr/local/lib/python3.6/dist-packages/keras/backend/tensorflow_backend.py:1033: The name tf.assign_add is deprecated. Please use tf.compat.v1.assign_add instead.\n",
            "\n",
            "WARNING:tensorflow:From /usr/local/lib/python3.6/dist-packages/keras/backend/tensorflow_backend.py:1020: The name tf.assign is deprecated. Please use tf.compat.v1.assign instead.\n",
            "\n",
            "WARNING:tensorflow:From /usr/local/lib/python3.6/dist-packages/keras/backend/tensorflow_backend.py:3005: The name tf.Session is deprecated. Please use tf.compat.v1.Session instead.\n",
            "\n",
            "Train on 60000 samples, validate on 10000 samples\n",
            "Epoch 1/50\n",
            "WARNING:tensorflow:From /usr/local/lib/python3.6/dist-packages/keras/backend/tensorflow_backend.py:190: The name tf.get_default_session is deprecated. Please use tf.compat.v1.get_default_session instead.\n",
            "\n",
            "WARNING:tensorflow:From /usr/local/lib/python3.6/dist-packages/keras/backend/tensorflow_backend.py:197: The name tf.ConfigProto is deprecated. Please use tf.compat.v1.ConfigProto instead.\n",
            "\n",
            "WARNING:tensorflow:From /usr/local/lib/python3.6/dist-packages/keras/backend/tensorflow_backend.py:207: The name tf.global_variables is deprecated. Please use tf.compat.v1.global_variables instead.\n",
            "\n",
            "WARNING:tensorflow:From /usr/local/lib/python3.6/dist-packages/keras/backend/tensorflow_backend.py:216: The name tf.is_variable_initialized is deprecated. Please use tf.compat.v1.is_variable_initialized instead.\n",
            "\n",
            "WARNING:tensorflow:From /usr/local/lib/python3.6/dist-packages/keras/backend/tensorflow_backend.py:223: The name tf.variables_initializer is deprecated. Please use tf.compat.v1.variables_initializer instead.\n",
            "\n",
            "60000/60000 [==============================] - 4s 68us/step - loss: 0.3680 - val_loss: 0.2713\n",
            "Epoch 2/50\n",
            "60000/60000 [==============================] - 3s 58us/step - loss: 0.2639 - val_loss: 0.2533\n",
            "Epoch 3/50\n",
            "60000/60000 [==============================] - 3s 58us/step - loss: 0.2431 - val_loss: 0.2308\n",
            "Epoch 4/50\n",
            "60000/60000 [==============================] - 3s 57us/step - loss: 0.2229 - val_loss: 0.2131\n",
            "Epoch 5/50\n",
            "60000/60000 [==============================] - 3s 56us/step - loss: 0.2080 - val_loss: 0.2007\n",
            "Epoch 6/50\n",
            "60000/60000 [==============================] - 3s 57us/step - loss: 0.1969 - val_loss: 0.1909\n",
            "Epoch 7/50\n",
            "60000/60000 [==============================] - 3s 58us/step - loss: 0.1883 - val_loss: 0.1832\n",
            "Epoch 8/50\n",
            "60000/60000 [==============================] - 3s 56us/step - loss: 0.1813 - val_loss: 0.1768\n",
            "Epoch 9/50\n",
            "60000/60000 [==============================] - 3s 56us/step - loss: 0.1753 - val_loss: 0.1712\n",
            "Epoch 10/50\n",
            "60000/60000 [==============================] - 3s 56us/step - loss: 0.1701 - val_loss: 0.1662\n",
            "Epoch 11/50\n",
            "60000/60000 [==============================] - 4s 59us/step - loss: 0.1654 - val_loss: 0.1618\n",
            "Epoch 12/50\n",
            "60000/60000 [==============================] - 4s 59us/step - loss: 0.1612 - val_loss: 0.1579\n",
            "Epoch 13/50\n",
            "60000/60000 [==============================] - 4s 58us/step - loss: 0.1575 - val_loss: 0.1543\n",
            "Epoch 14/50\n",
            "60000/60000 [==============================] - 4s 59us/step - loss: 0.1540 - val_loss: 0.1510\n",
            "Epoch 15/50\n",
            "60000/60000 [==============================] - 3s 58us/step - loss: 0.1508 - val_loss: 0.1480\n",
            "Epoch 16/50\n",
            "60000/60000 [==============================] - 3s 58us/step - loss: 0.1477 - val_loss: 0.1448\n",
            "Epoch 17/50\n",
            "60000/60000 [==============================] - 3s 57us/step - loss: 0.1448 - val_loss: 0.1421\n",
            "Epoch 18/50\n",
            "60000/60000 [==============================] - 3s 57us/step - loss: 0.1422 - val_loss: 0.1394\n",
            "Epoch 19/50\n",
            "60000/60000 [==============================] - 4s 59us/step - loss: 0.1396 - val_loss: 0.1371\n",
            "Epoch 20/50\n",
            "60000/60000 [==============================] - 4s 61us/step - loss: 0.1373 - val_loss: 0.1347\n",
            "Epoch 21/50\n",
            "60000/60000 [==============================] - 4s 60us/step - loss: 0.1350 - val_loss: 0.1326\n",
            "Epoch 22/50\n",
            "60000/60000 [==============================] - 3s 58us/step - loss: 0.1329 - val_loss: 0.1304\n",
            "Epoch 23/50\n",
            "60000/60000 [==============================] - 4s 59us/step - loss: 0.1309 - val_loss: 0.1284\n",
            "Epoch 24/50\n",
            "60000/60000 [==============================] - 4s 58us/step - loss: 0.1289 - val_loss: 0.1265\n",
            "Epoch 25/50\n",
            "60000/60000 [==============================] - 3s 57us/step - loss: 0.1271 - val_loss: 0.1246\n",
            "Epoch 26/50\n",
            "60000/60000 [==============================] - 3s 56us/step - loss: 0.1253 - val_loss: 0.1228\n",
            "Epoch 27/50\n",
            "60000/60000 [==============================] - 3s 57us/step - loss: 0.1236 - val_loss: 0.1211\n",
            "Epoch 28/50\n",
            "60000/60000 [==============================] - 3s 58us/step - loss: 0.1220 - val_loss: 0.1196\n",
            "Epoch 29/50\n",
            "60000/60000 [==============================] - 3s 58us/step - loss: 0.1204 - val_loss: 0.1180\n",
            "Epoch 30/50\n",
            "60000/60000 [==============================] - 4s 59us/step - loss: 0.1190 - val_loss: 0.1167\n",
            "Epoch 31/50\n",
            "60000/60000 [==============================] - 4s 59us/step - loss: 0.1176 - val_loss: 0.1153\n",
            "Epoch 32/50\n",
            "60000/60000 [==============================] - 4s 60us/step - loss: 0.1164 - val_loss: 0.1141\n",
            "Epoch 33/50\n",
            "60000/60000 [==============================] - 4s 59us/step - loss: 0.1152 - val_loss: 0.1130\n",
            "Epoch 34/50\n",
            "60000/60000 [==============================] - 3s 58us/step - loss: 0.1141 - val_loss: 0.1119\n",
            "Epoch 35/50\n",
            "60000/60000 [==============================] - 4s 59us/step - loss: 0.1131 - val_loss: 0.1109\n",
            "Epoch 36/50\n",
            "60000/60000 [==============================] - 3s 58us/step - loss: 0.1121 - val_loss: 0.1099\n",
            "Epoch 37/50\n",
            "60000/60000 [==============================] - 3s 58us/step - loss: 0.1112 - val_loss: 0.1091\n",
            "Epoch 38/50\n",
            "60000/60000 [==============================] - 4s 59us/step - loss: 0.1103 - val_loss: 0.1083\n",
            "Epoch 39/50\n",
            "60000/60000 [==============================] - 4s 59us/step - loss: 0.1096 - val_loss: 0.1075\n",
            "Epoch 40/50\n",
            "60000/60000 [==============================] - 4s 58us/step - loss: 0.1088 - val_loss: 0.1068\n",
            "Epoch 41/50\n",
            "60000/60000 [==============================] - 4s 59us/step - loss: 0.1082 - val_loss: 0.1062\n",
            "Epoch 42/50\n",
            "60000/60000 [==============================] - 4s 59us/step - loss: 0.1075 - val_loss: 0.1055\n",
            "Epoch 43/50\n",
            "60000/60000 [==============================] - 4s 60us/step - loss: 0.1069 - val_loss: 0.1050\n",
            "Epoch 44/50\n",
            "60000/60000 [==============================] - 4s 59us/step - loss: 0.1064 - val_loss: 0.1045\n",
            "Epoch 45/50\n",
            "60000/60000 [==============================] - 4s 59us/step - loss: 0.1059 - val_loss: 0.1040\n",
            "Epoch 46/50\n",
            "60000/60000 [==============================] - 3s 58us/step - loss: 0.1054 - val_loss: 0.1035\n",
            "Epoch 47/50\n",
            "60000/60000 [==============================] - 3s 58us/step - loss: 0.1049 - val_loss: 0.1031\n",
            "Epoch 48/50\n",
            "60000/60000 [==============================] - 4s 59us/step - loss: 0.1045 - val_loss: 0.1027\n",
            "Epoch 49/50\n",
            "60000/60000 [==============================] - 4s 60us/step - loss: 0.1041 - val_loss: 0.1023\n",
            "Epoch 50/50\n",
            "60000/60000 [==============================] - 4s 59us/step - loss: 0.1038 - val_loss: 0.1020\n"
          ],
          "name": "stdout"
        },
        {
          "output_type": "execute_result",
          "data": {
            "text/plain": [
              "<keras.callbacks.History at 0x7f3ff5cc9160>"
            ]
          },
          "metadata": {
            "tags": []
          },
          "execution_count": 15
        }
      ]
    },
    {
      "cell_type": "code",
      "metadata": {
        "id": "4u-Aw0t4U5cP",
        "colab_type": "code",
        "colab": {}
      },
      "source": [
        "# encode and decode some digits\n",
        "# note that we take them from the *test* set\n",
        "encoded_imgs = encoder.predict(x_test)\n",
        "decoded_imgs = decoder.predict(encoded_imgs)"
      ],
      "execution_count": 0,
      "outputs": []
    },
    {
      "cell_type": "code",
      "metadata": {
        "id": "qVhUasM2VsKT",
        "colab_type": "code",
        "colab": {
          "base_uri": "https://localhost:8080/",
          "height": 459
        },
        "outputId": "a9f0dada-0ec7-4516-d53c-14f78de26cf8"
      },
      "source": [
        "print(encoded_imgs)\n",
        "print(decoded_imgs)"
      ],
      "execution_count": 18,
      "outputs": [
        {
          "output_type": "stream",
          "text": [
            "[[ 1.393893    4.819203    9.537659   ...  6.256948   13.205536\n",
            "   0.264432  ]\n",
            " [ 0.71996534  4.2163396   2.2182193  ...  2.8982372   8.039322\n",
            "  10.635311  ]\n",
            " [ 0.          1.6059046   0.55333424 ...  3.0830688   8.8151245\n",
            "   5.595712  ]\n",
            " ...\n",
            " [ 3.2905495   4.194705   10.016529   ...  4.410598    9.369423\n",
            "   7.832072  ]\n",
            " [ 4.7598643   0.          8.589058   ...  9.324636    4.3521852\n",
            "   6.5861654 ]\n",
            " [ 6.5719805   9.447805    2.5079696  ... 11.034837    1.5451813\n",
            "  15.647144  ]]\n",
            "[[2.7120113e-05 4.5508146e-05 3.6209822e-05 ... 1.7225742e-05\n",
            "  1.1503696e-05 6.3478947e-06]\n",
            " [8.1032515e-05 2.5451183e-05 1.7583370e-06 ... 7.5459480e-05\n",
            "  8.1360340e-06 2.4735928e-06]\n",
            " [2.9939413e-04 9.6946955e-05 1.1691451e-04 ... 2.5188923e-04\n",
            "  1.0883808e-04 1.4114380e-04]\n",
            " ...\n",
            " [0.0000000e+00 0.0000000e+00 0.0000000e+00 ... 0.0000000e+00\n",
            "  5.9604645e-08 0.0000000e+00]\n",
            " [6.0796738e-06 1.7583370e-06 9.2387199e-07 ... 1.0579824e-05\n",
            "  3.7848949e-06 5.6624413e-07]\n",
            " [0.0000000e+00 0.0000000e+00 0.0000000e+00 ... 2.9802322e-08\n",
            "  0.0000000e+00 0.0000000e+00]]\n"
          ],
          "name": "stdout"
        }
      ]
    }
  ]
}