{
  "nbformat": 4,
  "nbformat_minor": 0,
  "metadata": {
    "colab": {
      "name": "classification_structure.ipynb",
      "provenance": [],
      "include_colab_link": true
    },
    "kernelspec": {
      "name": "python3",
      "display_name": "Python 3"
    }
  },
  "cells": [
    {
      "cell_type": "markdown",
      "metadata": {
        "id": "view-in-github",
        "colab_type": "text"
      },
      "source": [
        "<a href=\"https://colab.research.google.com/github/aryansingh12/tensorflow-keras/blob/master/classification_structure.ipynb\" target=\"_parent\"><img src=\"https://colab.research.google.com/assets/colab-badge.svg\" alt=\"Open In Colab\"/></a>"
      ]
    },
    {
      "cell_type": "markdown",
      "metadata": {
        "id": "Q9ZkCo8nkYS6",
        "colab_type": "text"
      },
      "source": [
        "Classify structured data with feature columns\n"
      ]
    },
    {
      "cell_type": "markdown",
      "metadata": {
        "id": "-Ca8XalXkb7y",
        "colab_type": "text"
      },
      "source": [
        "The Dataset"
      ]
    },
    {
      "cell_type": "markdown",
      "metadata": {
        "id": "Rc5CAAH0kgND",
        "colab_type": "text"
      },
      "source": [
        "Import TensorFlow and other libraries"
      ]
    },
    {
      "cell_type": "markdown",
      "metadata": {
        "id": "nSOpnnGakkM9",
        "colab_type": "text"
      },
      "source": [
        "Use Pandas to create a dataframe"
      ]
    },
    {
      "cell_type": "markdown",
      "metadata": {
        "id": "O-3K0UAyklzz",
        "colab_type": "text"
      },
      "source": [
        ""
      ]
    },
    {
      "cell_type": "markdown",
      "metadata": {
        "id": "7-I0yHdBkm30",
        "colab_type": "text"
      },
      "source": [
        "Split the dataframe into train, validation, and test"
      ]
    },
    {
      "cell_type": "markdown",
      "metadata": {
        "id": "vi92RH2Nkn6c",
        "colab_type": "text"
      },
      "source": [
        "Create an input pipeline using tf.data"
      ]
    },
    {
      "cell_type": "markdown",
      "metadata": {
        "id": "xXAQQWLmkn5a",
        "colab_type": "text"
      },
      "source": [
        "Understand the input pipeline"
      ]
    },
    {
      "cell_type": "markdown",
      "metadata": {
        "id": "-IhQ2Wc5km2v",
        "colab_type": "text"
      },
      "source": [
        "Demonstrate several types of feature column"
      ]
    },
    {
      "cell_type": "markdown",
      "metadata": {
        "id": "-53haLxfkrb1",
        "colab_type": "text"
      },
      "source": [
        "Choose which columns to use"
      ]
    },
    {
      "cell_type": "markdown",
      "metadata": {
        "id": "llyEkyXOkvdM",
        "colab_type": "text"
      },
      "source": [
        "Create a feature layer"
      ]
    },
    {
      "cell_type": "markdown",
      "metadata": {
        "id": "8vNKtWonkwr_",
        "colab_type": "text"
      },
      "source": [
        ""
      ]
    },
    {
      "cell_type": "markdown",
      "metadata": {
        "id": "2IJFGT2lkwti",
        "colab_type": "text"
      },
      "source": [
        "Create, compile, and train the model"
      ]
    }
  ]
}