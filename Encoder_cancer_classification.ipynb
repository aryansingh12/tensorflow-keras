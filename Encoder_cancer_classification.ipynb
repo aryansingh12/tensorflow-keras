{
  "nbformat": 4,
  "nbformat_minor": 0,
  "metadata": {
    "colab": {
      "name": "Encoder_cancer_classification.ipynb",
      "provenance": [],
      "collapsed_sections": [],
      "include_colab_link": true
    },
    "kernelspec": {
      "name": "python3",
      "display_name": "Python 3"
    }
  },
  "cells": [
    {
      "cell_type": "markdown",
      "metadata": {
        "id": "view-in-github",
        "colab_type": "text"
      },
      "source": [
        "<a href=\"https://colab.research.google.com/github/aryansingh12/tensorflow-keras/blob/master/Encoder_cancer_classification.ipynb\" target=\"_parent\"><img src=\"https://colab.research.google.com/assets/colab-badge.svg\" alt=\"Open In Colab\"/></a>"
      ]
    },
    {
      "cell_type": "code",
      "metadata": {
        "id": "ehhQJZ9U_UMc",
        "colab_type": "code",
        "colab": {}
      },
      "source": [
        "import numpy as np\n",
        "import matplotlib as plt\n",
        "# import the dataset here somehow\n",
        "# training and testing dataset \n",
        "# we need the keras models then\n",
        "# keep some part from each file for testing and training\n"
      ],
      "execution_count": 0,
      "outputs": []
    }
  ]
}